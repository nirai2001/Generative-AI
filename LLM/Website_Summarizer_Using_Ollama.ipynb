{
 "cells": [
  {
   "cell_type": "code",
   "execution_count": null,
   "id": "35f0dd44-5fa3-49cc-9488-b746de61eee4",
   "metadata": {},
   "outputs": [],
   "source": [
    "𝗥𝘂𝗻𝗻𝗶𝗻𝗴 𝗢𝗹𝗹𝗮𝗺𝗮 𝗹𝗼𝗰𝗮𝗹𝗹𝘆"
   ]
  },
  {
   "cell_type": "code",
   "execution_count": 1,
   "id": "4e2a9393-7767-488e-a8bf-27c12dca35bd",
   "metadata": {},
   "outputs": [],
   "source": [
    "# imports\n",
    "\n",
    "import requests\n",
    "from bs4 import BeautifulSoup\n",
    "from IPython.display import Markdown, display"
   ]
  },
  {
   "cell_type": "code",
   "execution_count": 7,
   "id": "29ddd15d-a3c5-4f4e-a678-873f56162724",
   "metadata": {},
   "outputs": [],
   "source": [
    "# Constants\n",
    "\n",
    "OLLAMA_API = \"http://localhost:11434/api/chat\"\n",
    "HEADERS = {\"Content-Type\": \"application/json\"}\n",
    "MODEL = \"llama3.2:1b\""
   ]
  },
  {
   "cell_type": "code",
   "execution_count": 8,
   "id": "dac0a679-599c-441f-9bf2-ddc73d35b940",
   "metadata": {},
   "outputs": [],
   "source": [
    "# Create a messages list using the same format that we used for OpenAI\n",
    "\n",
    "messages = [\n",
    "    {\"role\": \"user\", \"content\": \"Describe some of the business applications of Generative AI\"}\n",
    "]"
   ]
  },
  {
   "cell_type": "code",
   "execution_count": 9,
   "id": "7bb9c624-14f0-4945-a719-8ddb64f66f47",
   "metadata": {},
   "outputs": [],
   "source": [
    "payload = {\n",
    "        \"model\": MODEL,\n",
    "        \"messages\": messages,\n",
    "        \"stream\": False\n",
    "    }"
   ]
  },
  {
   "cell_type": "code",
   "execution_count": 11,
   "id": "42b9f644-522d-4e05-a691-56e7658c0ea9",
   "metadata": {},
   "outputs": [
    {
     "name": "stdout",
     "output_type": "stream",
     "text": [
      "Generative AI has a wide range of business applications across various industries. Here are some examples:\n",
      "\n",
      "1. **Content Generation**: Generative models can be used to generate high-quality content, such as articles, social media posts, and product descriptions, reducing the need for human writers and increasing efficiency.\n",
      "2. **Design Automation**: Generative AI can be applied to design fields like architecture, product design, and visual effects to create innovative and custom designs quickly and efficiently.\n",
      "3. **Research and Development (R&D)**: Generative models can assist scientists and engineers in generating new ideas, prototypes, and test cases, accelerating the R&D process and reducing experimental time.\n",
      "4. **Predictive Maintenance**: Generative AI can be used to predict equipment failures, identify maintenance needs, and schedule repairs, leading to increased operational efficiency and reduced downtime.\n",
      "5. **Personalized Customer Experience**: Generative models can help businesses create personalized product recommendations, content suggestions, and customer interactions based on individual preferences and behavior.\n",
      "6. **Product Optimization**: Generative AI can analyze large datasets to identify patterns and optimize product performance, such as pricing, advertising, and inventory management.\n",
      "7. **Transcription and Translation**: Generative models can quickly transcribe audio and video recordings into text, reducing the need for human transcriptionists and improving efficiency in industries like media and entertainment.\n",
      "8. **Image Editing and Enhancement**: Generative AI-powered tools can edit and enhance images, such as removing blemishes or enhancing colors, making them ideal for use in various industries like advertising, photography, and healthcare.\n",
      "9. **Chatbots and Virtual Assistants**: Generative AI can power conversational interfaces that learn from user interactions, providing more personalized and efficient support to customers.\n",
      "10. **Cybersecurity Threat Detection**: Generative models can analyze network traffic and identify potential security threats, helping businesses protect their assets and prevent data breaches.\n",
      "\n",
      "Some notable companies using generative AI in various industries include:\n",
      "\n",
      "* Google (image recognition, search)\n",
      "* Microsoft (Azure, Azure Machine Learning)\n",
      "* Amazon (Alexa, Amazon Rekognition)\n",
      "* NVIDIA (Generative models for computer vision and graphics)\n",
      "* IBM (Genie, Watson)\n"
     ]
    }
   ],
   "source": [
    "response = requests.post(OLLAMA_API, json=payload, headers=HEADERS)\n",
    "print(response.json()['message']['content'])"
   ]
  },
  {
   "cell_type": "code",
   "execution_count": 12,
   "id": "7745b9c4-57dc-4867-9180-61fa5db55eb8",
   "metadata": {},
   "outputs": [
    {
     "name": "stdout",
     "output_type": "stream",
     "text": [
      "Generative AI has a wide range of business applications across various industries. Here are some examples:\n",
      "\n",
      "1. **Content Generation**: Generative AI can be used to generate high-quality content, such as articles, social media posts, and product descriptions, without manual intervention. This can save time and resources for businesses looking to scale their content production.\n",
      "\n",
      "2. **Product Design**: Generative AI can be used to design new products or components by generating multiple prototypes based on user input or design parameters. This can help companies quickly test and iterate on designs before investing in production.\n",
      "\n",
      "3. **Digital Twinning**: Digital twins are virtual replicas of physical systems, which can be generated using generative AI algorithms. This allows businesses to analyze, simulate, and optimize complex systems like manufacturing processes or supply chains.\n",
      "\n",
      "4. **Personalization**: Generative AI can be used to generate personalized content, such as customized product recommendations or targeted marketing messages, based on user behavior and preferences.\n",
      "\n",
      "5. **Customer Service Chatbots**: Generative AI-powered chatbots can use natural language processing (NLP) and machine learning algorithms to generate human-like responses to customer inquiries, improving the overall user experience.\n",
      "\n",
      "6. **Research and Development**: Generative AI can be used to analyze large amounts of data and identify patterns or insights that may not be apparent through traditional research methods. This can help companies accelerate innovation and development in various fields.\n",
      "\n",
      "7. **Marketing Automation**: Generative AI can be used to create personalized marketing campaigns by generating targeted messages based on user behavior, demographics, and preferences.\n",
      "\n",
      "8. **Predictive Analytics**: Generative AI can be used to generate predictive models that forecast customer behavior, sales trends, or market shifts. This allows companies to make data-driven decisions and optimize their business strategies.\n",
      "\n",
      "9. **Automated Testing and Validation**: Generative AI can be used to automate the testing and validation of software applications, reducing the time and effort required for manual testing and ensuring higher quality products.\n",
      "\n",
      "10. **Supply Chain Optimization**: Generative AI can be used to analyze complex supply chain systems and generate predictive models that optimize inventory levels, shipping routes, and logistics operations, improving efficiency and reducing costs.\n",
      "\n",
      "These are just a few examples of the many business applications of generative AI. As the technology continues to evolve, we can expect to see even more innovative uses across various industries.\n"
     ]
    }
   ],
   "source": [
    "import ollama\n",
    "\n",
    "response = ollama.chat(model=MODEL, messages=messages)\n",
    "print(response['message']['content'])"
   ]
  },
  {
   "cell_type": "code",
   "execution_count": null,
   "id": "75337014-253d-457a-872b-b168cadfd787",
   "metadata": {},
   "outputs": [],
   "source": [
    "𝗪𝗲𝗯𝗦𝗶𝘁𝗲 𝗦𝘂𝗺𝗺𝗮𝗿𝗶𝘇𝗲𝗿 𝘂𝘀𝗶𝗻𝗴 𝗢𝗹𝗹𝗮𝗺𝗮"
   ]
  },
  {
   "cell_type": "code",
   "execution_count": 13,
   "id": "116d5345-efc9-4fc0-82de-318f8e13b179",
   "metadata": {},
   "outputs": [],
   "source": [
    "import os\n",
    "import requests\n",
    "from dotenv import load_dotenv\n",
    "from bs4 import BeautifulSoup\n",
    "from IPython.display import Markdown, display"
   ]
  },
  {
   "cell_type": "code",
   "execution_count": 14,
   "id": "de192f49-40aa-458f-a573-577532f51adb",
   "metadata": {},
   "outputs": [],
   "source": [
    "class Website:\n",
    "    \"\"\"\n",
    "    A utility class to represent a Website that we have scraped\n",
    "    \"\"\"\n",
    "\n",
    "    def __init__(self, url):\n",
    "        \"\"\"\n",
    "        Create this Website object from the given url using the BeautifulSoup library\n",
    "        \"\"\"\n",
    "        self.url = url\n",
    "        response = requests.get(url)\n",
    "        soup = BeautifulSoup(response.content, 'html.parser')\n",
    "        self.title = soup.title.string if soup.title else \"No title found\"\n",
    "        for irrelevant in soup.body([\"script\", \"style\", \"img\", \"input\"]):\n",
    "            irrelevant.decompose()\n",
    "        self.text = soup.body.get_text(separator=\"\\n\", strip=True)"
   ]
  },
  {
   "cell_type": "code",
   "execution_count": 15,
   "id": "53b80270-a77f-4d78-a8f6-c4901b677203",
   "metadata": {},
   "outputs": [],
   "source": [
    "ed = Website(\"https://edwarddonner.com\")"
   ]
  },
  {
   "cell_type": "code",
   "execution_count": 16,
   "id": "6a9eac13-c8af-41ee-9408-1cd062678c65",
   "metadata": {},
   "outputs": [],
   "source": [
    "system_prompt = \"You are an assistant that analyzes the contents of a website \\\n",
    "and provides a short summary, ignoring text that might be navigation related. \\\n",
    "Respond in markdown.\""
   ]
  },
  {
   "cell_type": "code",
   "execution_count": 17,
   "id": "93f7e399-d61b-4134-bf32-4412f74dbe3e",
   "metadata": {},
   "outputs": [],
   "source": [
    "def user_prompt_for(website):\n",
    "    user_prompt = f\"You are looking at a website titled {website.title}\"\n",
    "    user_prompt += \"\\nThe contents of this website is as follows; \\\n",
    "please provide a short summary of this website in markdown. \\\n",
    "If it includes news or announcements, then summarize these too.\\n\\n\"\n",
    "    user_prompt += website.text\n",
    "    return user_prompt"
   ]
  },
  {
   "cell_type": "code",
   "execution_count": 18,
   "id": "7b5b8143-1cdd-438f-9238-0db11931666e",
   "metadata": {},
   "outputs": [
    {
     "name": "stdout",
     "output_type": "stream",
     "text": [
      "You are looking at a website titled Home - Edward Donner\n",
      "The contents of this website is as follows; please provide a short summary of this website in markdown. If it includes news or announcements, then summarize these too.\n",
      "\n",
      "Home\n",
      "Outsmart\n",
      "An arena that pits LLMs against each other in a battle of diplomacy and deviousness\n",
      "About\n",
      "Posts\n",
      "Well, hi there.\n",
      "I’m Ed. I like writing code and experimenting with LLMs, and hopefully you’re here because you do too. I also enjoy DJing (but I’m badly out of practice), amateur electronic music production (\n",
      "very\n",
      "amateur) and losing myself in\n",
      "Hacker News\n",
      ", nodding my head sagely to things I only half understand.\n",
      "I’m the co-founder and CTO of\n",
      "Nebula.io\n",
      ". We’re applying AI to a field where it can make a massive, positive impact: helping people discover their potential and pursue their reason for being. Recruiters use our product today to source, understand, engage and manage talent. I’m previously the founder and CEO of AI startup untapt,\n",
      "acquired in 2021\n",
      ".\n",
      "We work with groundbreaking, proprietary LLMs verticalized for talent, we’ve\n",
      "patented\n",
      "our matching model, and our award-winning platform has happy customers and tons of press coverage.\n",
      "Connect\n",
      "with me for more!\n",
      "November 13, 2024\n",
      "Mastering AI and LLM Engineering – Resources\n",
      "October 16, 2024\n",
      "From Software Engineer to AI Data Scientist – resources\n",
      "August 6, 2024\n",
      "Outsmart LLM Arena – a battle of diplomacy and deviousness\n",
      "June 26, 2024\n",
      "Choosing the Right LLM: Toolkit and Resources\n",
      "Navigation\n",
      "Home\n",
      "Outsmart\n",
      "An arena that pits LLMs against each other in a battle of diplomacy and deviousness\n",
      "About\n",
      "Posts\n",
      "Get in touch\n",
      "ed [at] edwarddonner [dot] com\n",
      "www.edwarddonner.com\n",
      "Follow me\n",
      "LinkedIn\n",
      "Twitter\n",
      "Facebook\n",
      "Subscribe to newsletter\n",
      "Type your email…\n",
      "Subscribe\n"
     ]
    }
   ],
   "source": [
    "print(user_prompt_for(ed))"
   ]
  },
  {
   "cell_type": "code",
   "execution_count": 19,
   "id": "91f12f89-b5e2-49da-9993-bcc71004f46c",
   "metadata": {},
   "outputs": [],
   "source": [
    "def messages_for(website):\n",
    "    return [\n",
    "        {\"role\": \"system\", \"content\": system_prompt},\n",
    "        {\"role\": \"user\", \"content\": user_prompt_for(website)}\n",
    "    ]"
   ]
  },
  {
   "cell_type": "code",
   "execution_count": 21,
   "id": "176975ff-db21-4f9e-adef-72c98731bb31",
   "metadata": {},
   "outputs": [],
   "source": [
    "def summarize(url):\n",
    "    website = Website(url)\n",
    "    response = ollama.chat(model=MODEL,messages=messages_for(website))\n",
    "    return response['message']['content']"
   ]
  },
  {
   "cell_type": "code",
   "execution_count": 22,
   "id": "042aae5c-ca48-45d8-a206-31cf47ff753a",
   "metadata": {},
   "outputs": [
    {
     "data": {
      "text/plain": [
       "\"### Edward Donner's Website Summary\\n\\n*   **Overview**: A website about the creation of an arena where Large Language Models (LLMs) compete against each other in a battle of diplomacy and deviousness.\\n*   **News and Announcements**:\\n    *   November 13, 2024: Mastering AI and LLM Engineering - Resources\\n        This article provides resources for readers to improve their skills in mastering AI and LLM engineering. It does not include any news or announcements about the arena or the company.\\n    *   October 16, 2024: From Software Engineer to AI Data Scientist - resources\\n        This article offers resources for readers who want to transition from a career as an engineer into one of data science roles. Again, it does not mention the arena or the company.\\n    *   August 6, 2024: Outsmart LLM Arena – a battle of diplomacy and deviousness\\n        The announcement itself is news about the creation of the arena. There's no additional information provided about the arena beyond this point.\\n\\n### Key Facts\\n\\n*   **Company**: Nebula.io\\n*   **Founder/CEO**: Ed (Edward Donner)\\n*   **Background**: Co-founder and CTO of Nebula.io, previously founder and CEO of AI startup untapt, acquired in 2021\""
      ]
     },
     "execution_count": 22,
     "metadata": {},
     "output_type": "execute_result"
    }
   ],
   "source": [
    "summarize(\"https://edwarddonner.com\")"
   ]
  },
  {
   "cell_type": "code",
   "execution_count": 23,
   "id": "947bed6b-a8bd-40ad-8093-7afc77f92733",
   "metadata": {},
   "outputs": [],
   "source": [
    "def display_summary(url):\n",
    "    summary = summarize(url)\n",
    "    display(Markdown(summary))"
   ]
  },
  {
   "cell_type": "code",
   "execution_count": 24,
   "id": "74ac18fe-1125-44ff-8a8d-c81de71a6d71",
   "metadata": {},
   "outputs": [
    {
     "data": {
      "text/markdown": [
       "# Edward Donner's Website Summary\n",
       "\n",
       "This website, titled \"Home - Edward Donner,\" appears to be an introduction to the creator and their work. It features a section called \"About\" that includes information about the founder's interests in LLMs (Large Language Models), DJing, and AI development.\n",
       "\n",
       "There are also several blog posts listed under \"Posts\", including:\n",
       "*   **Mastering AI and LLM Engineering - Resources**: A collection of resources for learning about AI and LLM engineering.\n",
       "*   **From Software Engineer to AI Data Scientist - resources**: Tips and advice for transitioning from software engineering to AI data science.\n",
       "*   **Choosing the Right LLM: Toolkit and Resources**: Guidance on selecting the right Large Language Model (LLM) for a particular use case.\n",
       "\n",
       "In addition to these blog posts, there are also updates and announcements posted under \"News\" and \"Outsmart\"."
      ],
      "text/plain": [
       "<IPython.core.display.Markdown object>"
      ]
     },
     "metadata": {},
     "output_type": "display_data"
    }
   ],
   "source": [
    "display_summary(\"https://edwarddonner.com\")"
   ]
  }
 ],
 "metadata": {
  "kernelspec": {
   "display_name": "Python 3 (ipykernel)",
   "language": "python",
   "name": "python3"
  },
  "language_info": {
   "codemirror_mode": {
    "name": "ipython",
    "version": 3
   },
   "file_extension": ".py",
   "mimetype": "text/x-python",
   "name": "python",
   "nbconvert_exporter": "python",
   "pygments_lexer": "ipython3",
   "version": "3.11.10"
  }
 },
 "nbformat": 4,
 "nbformat_minor": 5
}
