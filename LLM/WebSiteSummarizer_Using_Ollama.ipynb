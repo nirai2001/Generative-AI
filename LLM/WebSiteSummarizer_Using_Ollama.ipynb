{
 "cells": [
  {
   "cell_type": "code",
   "execution_count": null,
   "id": "35f0dd44-5fa3-49cc-9488-b746de61eee4",
   "metadata": {},
   "outputs": [],
   "source": [
    "𝗥𝘂𝗻𝗻𝗶𝗻𝗴 𝗢𝗹𝗹𝗮𝗺𝗮 𝗹𝗼𝗰𝗮𝗹𝗹𝘆"
   ]
  },
  {
   "cell_type": "code",
   "execution_count": 1,
   "id": "4e2a9393-7767-488e-a8bf-27c12dca35bd",
   "metadata": {},
   "outputs": [],
   "source": [
    "# imports\n",
    "\n",
    "import requests\n",
    "from bs4 import BeautifulSoup\n",
    "from IPython.display import Markdown, display"
   ]
  },
  {
   "cell_type": "code",
   "execution_count": 2,
   "id": "29ddd15d-a3c5-4f4e-a678-873f56162724",
   "metadata": {},
   "outputs": [],
   "source": [
    "# Constants\n",
    "\n",
    "OLLAMA_API = \"http://localhost:11434/api/chat\"\n",
    "HEADERS = {\"Content-Type\": \"application/json\"}\n",
    "MODEL = \"llama3.2:1b\""
   ]
  },
  {
   "cell_type": "code",
   "execution_count": 3,
   "id": "dac0a679-599c-441f-9bf2-ddc73d35b940",
   "metadata": {},
   "outputs": [],
   "source": [
    "# Create a messages list using the same format that we used for OpenAI\n",
    "\n",
    "messages = [\n",
    "    {\"role\": \"user\", \"content\": \"Describe some of the business applications of Generative AI\"}\n",
    "]"
   ]
  },
  {
   "cell_type": "code",
   "execution_count": 4,
   "id": "7bb9c624-14f0-4945-a719-8ddb64f66f47",
   "metadata": {},
   "outputs": [],
   "source": [
    "payload = {\n",
    "        \"model\": MODEL,\n",
    "        \"messages\": messages,\n",
    "        \"stream\": False\n",
    "    }"
   ]
  },
  {
   "cell_type": "code",
   "execution_count": 5,
   "id": "42b9f644-522d-4e05-a691-56e7658c0ea9",
   "metadata": {},
   "outputs": [
    {
     "name": "stdout",
     "output_type": "stream",
     "text": [
      "Generative AI has a wide range of business applications across various industries. Here are some examples:\n",
      "\n",
      "1. **Content Creation**: Generative AI can be used to create high-quality, engaging content such as articles, social media posts, and product descriptions. Companies like Medium, LinkedIn, and HubSpot use generative AI to automate content creation.\n",
      "2. **Product Design**: Generative AI can be used to generate 3D models of products, furniture, and other objects. This can help designers and manufacturers speed up the design process and reduce the need for manual prototyping.\n",
      "3. **Marketing Automation**: Generative AI can be used to create personalized marketing messages, ads, and emails based on user data and behavior. Companies like Target and Amazon use generative AI to personalize their marketing campaigns.\n",
      "4. **Customer Service Chatbots**: Generative AI-powered chatbots can answer common customer queries, provide support, and route complex issues to human representatives. Companies like IBM and Microsoft use generative AI for customer service chatbots.\n",
      "5. **Predictive Maintenance**: Generative AI can be used to analyze maintenance data from sensors and machines to predict when equipment is likely to fail. This can help companies reduce downtime and increase productivity.\n",
      "6. **Personalized Recommendations**: Generative AI can be used to create personalized product recommendations based on user behavior, preferences, and search history. Companies like Netflix and Amazon use generative AI for personalized product recommendations.\n",
      "7. **Virtual Wardrobe Management**: Generative AI can be used to create a virtual wardrobe for customers by analyzing their fashion preferences and suggesting outfit combinations. This can help companies increase customer engagement and loyalty.\n",
      "8. **Supply Chain Optimization**: Generative AI can be used to optimize supply chain operations by predicting demand, identifying bottlenecks, and suggesting routes for transportation. Companies like Walmart and UPS use generative AI for supply chain optimization.\n",
      "9. **Sales Forecasting**: Generative AI can be used to analyze sales data from past transactions to predict future sales performance. This can help companies increase revenue and reduce the need for manual forecasting.\n",
      "10. **Training and Testing AI Models**: Generative AI can be used to generate training data for AI models, such as text, images, or audio files. Companies like Google and Microsoft use generative AI to train and test their AI models.\n",
      "\n",
      "These are just a few examples of the business applications of generative AI. As the technology continues to evolve, we can expect to see even more innovative uses across various industries.\n"
     ]
    }
   ],
   "source": [
    "response = requests.post(OLLAMA_API, json=payload, headers=HEADERS)\n",
    "print(response.json()['message']['content'])"
   ]
  },
  {
   "cell_type": "code",
   "execution_count": 6,
   "id": "7745b9c4-57dc-4867-9180-61fa5db55eb8",
   "metadata": {},
   "outputs": [
    {
     "name": "stdout",
     "output_type": "stream",
     "text": [
      "Generative AI has numerous business applications across various industries, enabling organizations to create innovative products and services. Here are some examples:\n",
      "\n",
      "1. **Content Creation**: Generative AI can generate high-quality content, such as articles, social media posts, or product descriptions, at scale and with minimal human intervention. This saves time and resources for businesses like:\n",
      "\t* News outlets and blogs\n",
      "\t* Social media platforms (e.g., Facebook, Twitter)\n",
      "\t* E-commerce companies\n",
      "2. **Virtual Assistants**: Generative AI-powered virtual assistants can help automate tasks, provide customer support, and offer personalized recommendations. Examples include:\n",
      "\t* Virtual personal assistants (e.g., Amazon's Alexa, Google Assistant)\n",
      "\t* Chatbots for customer service (e.g., IBM Watson Assistant)\n",
      "3. **Predictive Maintenance**: Generative AI can analyze sensor data from machines to predict maintenance needs, reducing downtime and increasing overall efficiency. This application is used in:\n",
      "\t* Manufacturing\n",
      "\t* Heavy industry\n",
      "\t* Energy and utilities\n",
      "4. **Personalized Marketing**: Generative AI can generate personalized content, offers, or product recommendations based on customers' preferences, behavior, and purchase history. Examples include:\n",
      "\t* Retailers (e.g., Amazon, Walmart)\n",
      "\t* Finance institutions (e.g., banks, credit unions)\n",
      "\t* Healthcare providers\n",
      "5. **Video Production**: Generative AI can create high-quality videos, such as 3D models, animations, or special effects, without the need for human intervention. This application is used in:\n",
      "\t* Film and television production\n",
      "\t* Advertising agencies\n",
      "\t* Gaming companies\n",
      "6. **Product Design**: Generative AI can generate product designs, prototypes, or 3D models based on customer feedback, market trends, and design requirements. Examples include:\n",
      "\t* Furniture and home decor designers (e.g., IKEA)\n",
      "\t* Electronics manufacturers\n",
      "\t* Automotive companies\n",
      "7. **Supply Chain Optimization**: Generative AI can analyze data from sensors, IoT devices, or other sources to optimize supply chain operations, such as inventory management, logistics, or shipping.\n",
      "8. **Risk Management**: Generative AI can analyze historical data and identify patterns to predict potential risks, allowing businesses to take proactive measures to mitigate them. Examples include:\n",
      "\t* Insurance companies\n",
      "\t* Financial institutions (e.g., banks, credit unions)\n",
      "\t* Energy and utilities\n",
      "9. **Customer Service Chatbots**: Generative AI-powered chatbots can help automate customer support, provide instant responses, and offer self-service options.\n",
      "10. **Research and Development**: Generative AI can accelerate research and development by generating ideas, prototypes, or test results in various fields, such as:\n",
      "* Biotechnology\n",
      "* Materials science\n",
      "* Transportation engineering\n",
      "\n",
      "These are just a few examples of the many business applications of Generative AI. As the technology continues to evolve, we can expect to see even more innovative uses across various industries.\n"
     ]
    }
   ],
   "source": [
    "import ollama\n",
    "\n",
    "response = ollama.chat(model=MODEL, messages=messages)\n",
    "print(response['message']['content'])"
   ]
  },
  {
   "cell_type": "markdown",
   "id": "f5f708f4-33fc-4153-80ba-016f421262b8",
   "metadata": {},
   "source": [
    "𝗪𝗲𝗯𝗦𝗶𝘁𝗲 𝗦𝘂𝗺𝗺𝗮𝗿𝗶𝘇𝗲𝗿 𝘂𝘀𝗶𝗻𝗴 𝗢𝗹𝗹𝗮𝗺𝗮"
   ]
  },
  {
   "cell_type": "code",
   "execution_count": 8,
   "id": "116d5345-efc9-4fc0-82de-318f8e13b179",
   "metadata": {},
   "outputs": [],
   "source": [
    "import os\n",
    "import requests\n",
    "from dotenv import load_dotenv\n",
    "from bs4 import BeautifulSoup\n",
    "from IPython.display import Markdown, display"
   ]
  },
  {
   "cell_type": "code",
   "execution_count": 9,
   "id": "de192f49-40aa-458f-a573-577532f51adb",
   "metadata": {},
   "outputs": [],
   "source": [
    "class Website:\n",
    "    \"\"\"\n",
    "    A utility class to represent a Website that we have scraped\n",
    "    \"\"\"\n",
    "\n",
    "    def __init__(self, url):\n",
    "        \"\"\"\n",
    "        Create this Website object from the given url using the BeautifulSoup library\n",
    "        \"\"\"\n",
    "        self.url = url\n",
    "        response = requests.get(url)\n",
    "        soup = BeautifulSoup(response.content, 'html.parser')\n",
    "        self.title = soup.title.string if soup.title else \"No title found\"\n",
    "        for irrelevant in soup.body([\"script\", \"style\", \"img\", \"input\"]):\n",
    "            irrelevant.decompose()\n",
    "        self.text = soup.body.get_text(separator=\"\\n\", strip=True)"
   ]
  },
  {
   "cell_type": "code",
   "execution_count": 11,
   "id": "53b80270-a77f-4d78-a8f6-c4901b677203",
   "metadata": {},
   "outputs": [],
   "source": [
    "ed = Website(\"https://www.monkprayogshala.in/blog/2015/7/28/apj-abdul-kalam-made-in-india-a-students-tribute\")"
   ]
  },
  {
   "cell_type": "code",
   "execution_count": 12,
   "id": "6a9eac13-c8af-41ee-9408-1cd062678c65",
   "metadata": {},
   "outputs": [],
   "source": [
    "system_prompt = \"You are an assistant that analyzes the contents of a website \\\n",
    "and provides a short summary, ignoring text that might be navigation related. \\\n",
    "Respond in markdown.\""
   ]
  },
  {
   "cell_type": "code",
   "execution_count": 13,
   "id": "93f7e399-d61b-4134-bf32-4412f74dbe3e",
   "metadata": {},
   "outputs": [],
   "source": [
    "def user_prompt_for(website):\n",
    "    user_prompt = f\"You are looking at a website titled {website.title}\"\n",
    "    user_prompt += \"\\nThe contents of this website is as follows; \\\n",
    "please provide a short summary of this website in markdown. \\\n",
    "If it includes news or announcements, then summarize these too.\\n\\n\"\n",
    "    user_prompt += website.text\n",
    "    return user_prompt"
   ]
  },
  {
   "cell_type": "code",
   "execution_count": 14,
   "id": "7b5b8143-1cdd-438f-9238-0db11931666e",
   "metadata": {},
   "outputs": [
    {
     "name": "stdout",
     "output_type": "stream",
     "text": [
      "You are looking at a website titled APJ Abdul Kalam - Made in India: A Student Tribute | Blog | Monk Prayogshala\n",
      "The contents of this website is as follows; please provide a short summary of this website in markdown. If it includes news or announcements, then summarize these too.\n",
      "\n",
      "Home\n",
      "About Prayogshala\n",
      "Who We Are\n",
      "What We Do\n",
      "Our Resources and Processes\n",
      "Our Network\n",
      "Research\n",
      "Psychology\n",
      "Economics\n",
      "Sociology\n",
      "Literary Studies\n",
      "Grants\n",
      "Working Papers\n",
      "Infographics\n",
      "Participate in a Study\n",
      "Institutional Review Board\n",
      "Training\n",
      "Mentorship Programme\n",
      "Research Foundation Programme\n",
      "Online Courses\n",
      "Courses\n",
      "Workshops/Seminars\n",
      "Onsite Workshops\n",
      "Testimonials\n",
      "Blog\n",
      "Work With Us\n",
      "NGO Engage\n",
      "People\n",
      "Our Team\n",
      "Our Alumni\n",
      "Contact Us\n",
      "Donate to Monk Prayogshala!\n",
      "Home\n",
      "About Prayogshala\n",
      "Who We Are\n",
      "What We Do\n",
      "Our Resources and Processes\n",
      "Our Network\n",
      "Research\n",
      "Psychology\n",
      "Economics\n",
      "Sociology\n",
      "Literary Studies\n",
      "Grants\n",
      "Working Papers\n",
      "Infographics\n",
      "Participate in a Study\n",
      "Institutional Review Board\n",
      "Training\n",
      "Mentorship Programme\n",
      "Research Foundation Programme\n",
      "Online Courses\n",
      "Courses\n",
      "Workshops/Seminars\n",
      "Onsite Workshops\n",
      "Testimonials\n",
      "Blog\n",
      "Work With Us\n",
      "NGO Engage\n",
      "People\n",
      "Our Team\n",
      "Our Alumni\n",
      "Contact Us\n",
      "Donate to Monk Prayogshala!\n",
      "July 28, 2015\n",
      "Samridh Kapoor\n",
      "APJ Abdul Kalam - Made in India: A Student Tribute\n",
      "Samridh Kapoor\n",
      "July 28, 2015\n",
      "APJ Abdul Kalam - Made in India: A Student Tribute\n",
      "Samridh Kapoor\n",
      "July 28, 2015\n",
      "There is no easy way from the earth to the stars.\n",
      "Non est ad astra mollis e terris via.\n",
      "- Seneca\n",
      "One of my generation’s teachers just died. Or did he? He probably still lives a little in each of us. A little in every ISRO launch, in every Indian research paper, in every science textbook, on every blackboard. A little in every Indian nuclear missile too.\n",
      "Dr. APJ Abdul Kalam is still alive. Our generation will pass on a little of APJ Abdul Kalam to the next, and they to the next, and it will go on. Don't worry Dr Kalam, if you’ve taught us right, you are close to immortal. Who said you can’t live forever? As long as a generation remembers your message, the idea of you is alive and smiling.\n",
      "And what a message it was. Unlike many, his own life was his message. A message that valued inspiration with intellect, purpose with process, humility with hunger.\n",
      "He was always from the future. When,as kids, most of us were living in the year 2000, he was already living in 2020. He was a regular Prometheus for many kids, travelling into the future and bringing back ideas, projects, goals and a coherent positive vision for the country and its citizens.\n",
      "And he was a master at defining his target audience. He knew the right age to make an imprint into minds and plant the much needed values of  my generation. He knew it was no use motivating people closer to his age, he knew how people are set in their ways after a certain age. He therefore focused all his energy towards the seeds, and not the trees.\n",
      "Like inception, I'd like to think he basically hacked our minds and implanted some very basic but powerful ideas that unfortunately no one else bothered to do. On his death, I now understand how much he has affected our value system, which was unknown to many of us while he was alive.\n",
      "As an adult, I now know that he was an accomplished scientist and project manager who changed the geopolitical context of our country.\n",
      "I now know that he led the project to develop India's first indigenous Satellite Launch Vehicle, an integral part of India's space program today that allows us to launch our own and third party communication and defence satellites into space.\n",
      "That he led India's ballistic missile program, persuaded the Government to classify and not reveal to the public the true nature and funds allotted to these projects, for the sake of national security.\n",
      "That he was instrumental in the development of the Agni and Prithvi missiles.\n",
      "That he was the chief coordinator of the Pokhran II nuclear tests. That he wore army uniforms during these test days to maintain secrecy of the impending nuclear test yields and their geopolitical implications, even concealing the same from the Indian army until a public announcement from the Indian government.\n",
      "That he was a passionate low cost inventor, codeveloping rural low cost laptops and coronary stents.\n",
      "Even that many of his projects overran costs and time, and a few outright failed their goals. But that many of India's critical Prithvi and Agni nuclear missile projects owe their success to those early failures.\n",
      "India's defence technology ambitions in the seventies and eighties owe him a great debt. Without him, we would simply not have had the confidence and audacity to simultaneously take strides in indigenous development of so many variants of defence programs hitherto unheard of in the country.\n",
      "I knew none of that as a boy, and I still found much of what he said, made sense to my little mind. That was the beauty and simplicity of his communication. He was definitely a deeply structured thinker, probably a profound technical mind, probably an astute defence project manager, and yet his communication never betrayed the seriousness and utter criticality of his pursuits. He spoke to kids, like a kid. Like being an actual rocket scientist was not rocket science at all. Like it was simple, fun, like playing in a park. Like it was so easy, that anyone, even we, could do it.\n",
      "Interestingly, after my school years, I felt I had outgrown Dr. Kalam and his message. Over the years, and after he completed his Presidential term, I kept less track of what he was upto, and what he was pursuing.\n",
      "I now realise he probably wanted it that way. He had already moved on to inspiring the next generation of kids, knowing that what he had taught kids like me would emerge, and trigger in us responses, at the right times in our lives.\n",
      "When I heard of his death, the memories of him as President and so many others were accompanied by many memories of my own childhood. I was reminded of the science exhibitions, the quiz competitions, even my board exams. I realised I used to study really hard partly because he had taught us kids that it was important, that it was a way for us to build our minds, careers and eventually our country.\n",
      "Over the years, we forget why we did what we did as kids, why we chose the subjects we chose to study well or what motivated us to choose the life paths we chose. His death has reminded me that he was always somewhere in the background in those years, sometimes on TV, sometimes on the radio, sometimes in the news, egging on young directionless kids like me to be good, to be better.\n",
      "They say in space, genius is not inventing and writing with a gravity-defying ink pen. Genius is writing with a pencil. He was that pencil. Simple, to the point and direct to the point of being disarming.\n",
      "Indian kids who were born after 2000 are just 15 or younger today, and most will easily live to 2070 or more. In other words, this unassuming man with a distinctly funny hairstyle has knowingly embedded his values into the minds of millions of young Indians who will live well into the next 50 years. If there’s an example of future proofing your message, this is one of the best.\n",
      "He taught us that power and peace can coexist, that weakness was not a matter of pride, but a status quo to be challenged and overcome.\n",
      "That the Indian mind was no less than the American or Australian or European one, that dignity came not with destitution, but with a defence policy and with nuclear deterrence.\n",
      "That to earn the right to build missiles that protect your country with nuclear warheads that can strike deep into enemy territory, you do not have to be rich or have influence in the right places or be born in Mumbai or Delhi or Bangalore. You can be born in a village in Tamil Nadu, sell newspapers as a kid to support your education, and still grow up to have your thumb on the country's nuclear button.\n",
      "That all you need is hard work, determination, and the spirit to dream beyond your immediate reality. He was not a top down motivator who simply spoke about these things without having direct experience of them. At each stage of his life, he had to think beyond his immediate reality and have the audacity to overcome his immediate situation.\n",
      "Since he was used to doing it so many times for himself, he eventually realised he could do that for his country's and citizens' ambitions too.\n",
      "For Indian kids in a generation which had no real living role models in the sciences, in research, in innovation and definitely not in nuclear technology and defence, he filled a very important gap. He was arguably the most publicly known Indian scientist of my generation, nuclear or otherwise.\n",
      "Ironically, we enjoy largely peaceful borders because we are a coherent nuclear power. He truly believed in the maxim that India should 'talk softly and carry a big stick'.\n",
      "He was, and always will be, one of the most iconic products to be Made in India.\n",
      "And everything made after him, owes a little to this tiny genius from Rameswaram, who taught us that Taking is good, but Making is better.\n",
      "He looked up to Vikram Sarabhai, and now an entire generation looks up to him. Years later, when we narrate how we were the lucky generation to be kids when someone named Sachin Tendulkar batted for India, I am sure we will mention Dr Kalam in the same sentence. When we were kids, Dr Kalam built nuclear missiles for India. We will be proud to say that Dr Kalam was our President when we were in school and college. I am now as much the Kalam Generation as the Sachin one.\n",
      "On behalf of many in my generation, if you're listening, I'd just like to say that, take a much needed break, sir. Your students will take it from here.\n",
      "Good night.\n",
      "Samridh Kapoor\n",
      "Kalam Batch of 2000-2015\n",
      "Tagged:\n",
      "APJ Abdul Kalam\n",
      ",\n",
      "Student Tribute\n",
      "Newer Post\n",
      "Neuroscience’s evil twin: The Neuromyth\n",
      "Older Post\n",
      "Looking for the Good Samaritan\n",
      "Back to Top\n",
      "Terms and Conditions\n",
      "Privacy Policy\n",
      "Monk Prayogshala, 4116, C-Wing, Oberoi Garden Estates, Powai, Mumbai, Maharashtra, 400072, India\n",
      "+919167226458\n",
      "lok@monkprayogshala.in\n",
      "For latest updates, financials and documents, please visit\n",
      "our profile\n",
      "on GuideStar India.\n"
     ]
    }
   ],
   "source": [
    "print(user_prompt_for(ed))"
   ]
  },
  {
   "cell_type": "code",
   "execution_count": 15,
   "id": "91f12f89-b5e2-49da-9993-bcc71004f46c",
   "metadata": {},
   "outputs": [],
   "source": [
    "def messages_for(website):\n",
    "    return [\n",
    "        {\"role\": \"system\", \"content\": system_prompt},\n",
    "        {\"role\": \"user\", \"content\": user_prompt_for(website)}\n",
    "    ]"
   ]
  },
  {
   "cell_type": "code",
   "execution_count": 16,
   "id": "176975ff-db21-4f9e-adef-72c98731bb31",
   "metadata": {},
   "outputs": [],
   "source": [
    "def summarize(url):\n",
    "    website = Website(url)\n",
    "    response = ollama.chat(model=MODEL,messages=messages_for(website))\n",
    "    return response['message']['content']"
   ]
  },
  {
   "cell_type": "code",
   "execution_count": 18,
   "id": "042aae5c-ca48-45d8-a206-31cf47ff753a",
   "metadata": {},
   "outputs": [
    {
     "data": {
      "text/plain": [
       "\"The article is a tribute to the life and legacy of Dr APJ Abdul Kalam, the 11th President of India from 1997 to 2002. The speaker, Samridh Kapoor, was one of Kalam's students and reflects on his impact on their lives.\\n\\nThe article highlights Kalam's early successes in science exhibitions, quiz competitions, and board exams, which inspired young children like the author who were also aspiring scientists and engineers. Kalam's mentorship played a significant role in shaping their interest in STEM fields (science, technology, engineering, and mathematics).\\n\\nKalam was known for his simplicity, directness, and disarming style of communication. He encouraged students to believe that any idea can be tested and proved wrong if it fails to work. His message resonated with young people who were looking for inspiration and guidance.\\n\\nThe article also touches on the author's personal connection with Kalam, born in 1967, 25 years after he left office. The author reflects on how Kalam's legacy lives on through their own experiences as a student of Dr Kalam Batch of 2000-2015.\\n\\nOverall, the article is a heartfelt tribute to Dr APJ Abdul Kalam's life and impact on his students, and serves as an inspiration to future generations of scientists, engineers, and thinkers.\""
      ]
     },
     "execution_count": 18,
     "metadata": {},
     "output_type": "execute_result"
    }
   ],
   "source": [
    "summarize(\"https://www.monkprayogshala.in/blog/2015/7/28/apj-abdul-kalam-made-in-india-a-students-tribute\")"
   ]
  },
  {
   "cell_type": "code",
   "execution_count": 19,
   "id": "947bed6b-a8bd-40ad-8093-7afc77f92733",
   "metadata": {},
   "outputs": [],
   "source": [
    "def display_summary(url):\n",
    "    summary = summarize(url)\n",
    "    display(Markdown(summary))"
   ]
  },
  {
   "cell_type": "code",
   "execution_count": 20,
   "id": "74ac18fe-1125-44ff-8a8d-c81de71a6d71",
   "metadata": {},
   "outputs": [
    {
     "data": {
      "text/markdown": [
       "This is a speech by Samridh Kapoor, a student of APJ Abdul Kalam, the former President of India, at a student tribute event. The speech reflects on Dr. Kalam's impact on the speaker and their generation.\n",
       "\n",
       "Here are some key points from the speech:\n",
       "\n",
       "1. **Dr. Kalam's influence**: The speaker had a profound impact on their life, teaching them to study hard and strive for excellence.\n",
       "2. **Inspiring young minds**: Dr. Kalam was a constant presence in the lives of many Indian students, inspiring them to pursue their passions and become great leaders.\n",
       "3. **His legacy lives on**: The speaker feels that they are part of a \"Kalam Generation\" and are proud to carry on his legacy.\n",
       "4. **A tribute to a great leader**: Dr. Kalam was not only a brilliant scientist but also a charismatic leader who inspired millions, including the speaker.\n",
       "\n",
       "The speech is notable for its nostalgic tone, with references to memories of Dr. Kalam's presence in their lives during their school days and early college years. The author also highlights the significance of Dr. Kalam as a role model, inspiring them to become leaders and pursue their passions."
      ],
      "text/plain": [
       "<IPython.core.display.Markdown object>"
      ]
     },
     "metadata": {},
     "output_type": "display_data"
    }
   ],
   "source": [
    "display_summary(\"https://www.monkprayogshala.in/blog/2015/7/28/apj-abdul-kalam-made-in-india-a-students-tribute\")"
   ]
  }
 ],
 "metadata": {
  "kernelspec": {
   "display_name": "Python 3 (ipykernel)",
   "language": "python",
   "name": "python3"
  },
  "language_info": {
   "codemirror_mode": {
    "name": "ipython",
    "version": 3
   },
   "file_extension": ".py",
   "mimetype": "text/x-python",
   "name": "python",
   "nbconvert_exporter": "python",
   "pygments_lexer": "ipython3",
   "version": "3.11.10"
  }
 },
 "nbformat": 4,
 "nbformat_minor": 5
}
